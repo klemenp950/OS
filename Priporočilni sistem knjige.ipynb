{
 "cells": [
  {
   "cell_type": "markdown",
   "metadata": {},
   "source": [
    "# Priporočilni sistem za knjige\n",
    "Za seminarsko nalogo sem se odločil da bom implementiral algoritme, opisane v navodilih na podatkih o knjigah. Podatke lahko najdemo na [povezavi](https://github.com/caserec/Datasets-for-Recommender-Systems/tree/master/Processed%20Datasets/BookCrossing). "
   ]
  },
  {
   "cell_type": "code",
   "execution_count": 1,
   "metadata": {},
   "outputs": [],
   "source": [
    "RATINGS_FILE = 'data/book_crossing/book_ratings.dat'\n",
    "BOOKS_FILE = 'data/book_crossing/items_info.dat'"
   ]
  },
  {
   "cell_type": "markdown",
   "metadata": {},
   "source": [
    "## UserItemData\n",
    "Za branje ocen sem napisal class z imenom UserItemData. V konstruktorju sprejme pot do datoteke, dva datuma in minimalno število ocen, ki jih mora imeti knjiga. Lahko pa prejme tudi pot do datoteke pickle, v tem primeru naloži razred iz .pkl datoteke.\n",
    "Razred ima za uporabnika viden le en atribut, data. Ta je Pandas DataFrame. Ima stolpce UserID, bookID, Rating in Date. \n",
    "Metode ki jih ima razred so sledeče:\n",
    "- save_to_db(path), prejme parameter path, ki pove kam naj shrani razred v datoteko .pkl\n",
    "- get_rating(user_id, book_id), prejme parametra userID in bookID in vrne oceno ki jo je uporabnik dal določenemu filmu. Če uporabnik ali film nista v atributu data, metoda vrne None\n",
    "- get_number_of_users(), vrne število različnih uporabnikov v data\n",
    "- nratings(), vnre število vseh ocen v data\n",
    "- get_sum_of_ratings(book_id), prejme bookID, vrne vsoto vseh ocen za ta film. Če film ne obstaja v data vrne 0.\n",
    "- get_number_of_ratings(book_id), prejme bookID, vrne število ocen za ta film. Če film ne obstaja v data vrne 0.\n",
    "- get_avg_rating(book_id), prejme bookID, vrne povprečno oceno za ta film."
   ]
  },
  {
   "cell_type": "code",
   "execution_count": 17,
   "metadata": {},
   "outputs": [],
   "source": [
    "import pickle\n",
    "import pandas as pd\n",
    "\n",
    "class UserItemData:\n",
    "    def __init__(self, path=None, pickle_path=None, min_ratings=0):\n",
    "        if pickle_path:\n",
    "            self.__path, self.__min_ratings, self.data = self.__load_from_db(pickle_path)\n",
    "        else:\n",
    "            self.__path = path\n",
    "            self.__min_ratings = min_ratings\n",
    "            self.data = self.__load_data()\n",
    "        \n",
    "    def __load_data(self):\n",
    "        data = []\n",
    "        try:\n",
    "            with open(self.__path, 'r') as f:\n",
    "                next(f)\n",
    "                for line in f:\n",
    "                    userID, bookID, rating= line.strip().split('\\t')\n",
    "                    data.append([int(userID), int(bookID), float(rating)])\n",
    "            \n",
    "            df = pd.DataFrame(data, columns=['userID', 'bookID', 'rating'])\n",
    "            book_counts = df['bookID'].value_counts()\n",
    "            valid_books = book_counts[book_counts >= self.__min_ratings].index\n",
    "            df = df[df['bookID'].isin(valid_books)]\n",
    "            return df\n",
    "        \n",
    "        except FileNotFoundError:\n",
    "            print('Error: File not found')\n",
    "            return None\n",
    "    \n",
    "    def save_to_db(self, path):\n",
    "        with open(path, 'wb') as f:\n",
    "            pickle.dump(self, f)\n",
    "    \n",
    "    def __load_from_db(path):\n",
    "        try:\n",
    "            with open(path, 'rb') as f:\n",
    "                return pickle.load(f)\n",
    "        except FileNotFoundError:\n",
    "            print('Error: File not found')\n",
    "            return None\n",
    "        except pickle.UnpicklingError:\n",
    "            print('Error: Unpickling error')\n",
    "            return None\n",
    "    \n",
    "    def get_rating(self, user_id, book_id):\n",
    "        rating = self.data[(self.data['userID'] == user_id) & (self.data['bookID'] == book_id)]['rating']\n",
    "        if rating.empty:\n",
    "            return None\n",
    "        return rating.values[0]\n",
    "    \n",
    "    def get_number_of_users(self):\n",
    "        return len(self.data['userID'].unique())\n",
    "    \n",
    "    def nrating(self):\n",
    "        return len(self.data)\n",
    "    \n",
    "    def get_sum_of_ratings(self, book_id):\n",
    "        book_ratings = self.data.groupby('bookID')['rating'].sum()\n",
    "        if book_id in book_ratings:\n",
    "            return book_ratings[book_id]\n",
    "        else:\n",
    "            return 0\n",
    "    \n",
    "    def get_number_of_ratings(self, book_id):\n",
    "        book_ratings_count = self.data.groupby('bookID')['rating'].count()\n",
    "        if book_id in book_ratings_count:\n",
    "            return book_ratings_count[book_id]\n",
    "        else:\n",
    "            return 0\n",
    "    \n",
    "    def get_avg_rating(self, book_id):\n",
    "        return self.get_sum_of_ratings(book_id) / self.get_number_of_ratings(book_id)\n",
    "    \n",
    "    def get_movies(self):\n",
    "        return self.data['bookID'].unique()\n",
    "    def get_all_ratings(self, book):\n",
    "        return self.data[self.data['bookID'] == book]"
   ]
  },
  {
   "cell_type": "code",
   "execution_count": 3,
   "metadata": {},
   "outputs": [
    {
     "name": "stdout",
     "output_type": "stream",
     "text": [
      "62656\n"
     ]
    }
   ],
   "source": [
    "uid = UserItemData(RATINGS_FILE)\n",
    "print(uid.nrating())"
   ]
  },
  {
   "cell_type": "markdown",
   "metadata": {},
   "source": [
    "## BookData\n",
    "Razred za branje podatkov o knjigah. Razred vsebuje naslednje metode:\n",
    "- nbooks(), vrne število knjig\n",
    "- get_title(id), prjeme bookID, vrne naslov knjige če ta obstaja, če ne vrne None\n",
    "- get_ids_and_titles(), vrne seznam terk, kjer je na prvem mestu bookID in na drugem naslov"
   ]
  },
  {
   "cell_type": "code",
   "execution_count": 4,
   "metadata": {},
   "outputs": [],
   "source": [
    "class BookData:\n",
    "    def __init__(self, path):\n",
    "        self.__path = path\n",
    "        self.data = self.__load_data()\n",
    "    \n",
    "    def __load_data(self):\n",
    "        data = []\n",
    "        with open(self.__path, 'r') as f:\n",
    "            next(f)\n",
    "            for line in f:\n",
    "                line = line.strip().split('\\t')\n",
    "                data.append(line)\n",
    "        return data\n",
    "    \n",
    "    def nbooks(self):\n",
    "        return len(self.data)\n",
    "\n",
    "    def get_title(self, id):\n",
    "        for line in self.data:\n",
    "            if int(line[0]) == id:\n",
    "                return line[2]\n",
    "        return None\n",
    "\n",
    "    def get_ids_and_titles(self):\n",
    "        return [(int(line[0]), line[1]) for line in self.data]"
   ]
  },
  {
   "cell_type": "code",
   "execution_count": 5,
   "metadata": {},
   "outputs": [
    {
     "name": "stdout",
     "output_type": "stream",
     "text": [
      "17384\n"
     ]
    }
   ],
   "source": [
    "bd = BookData(BOOKS_FILE)\n",
    "print(bd.nbooks())"
   ]
  },
  {
   "cell_type": "markdown",
   "metadata": {},
   "source": [
    "## Naključni predikator\n",
    "Naključni predikator je razred, ki v konstruktorju prejme minimalno in maksimalno oceno. Metoda fit shrani podatke o knjigah, metoda predict pa vrne naključno vrednost med min in max za vsak produkt. "
   ]
  },
  {
   "cell_type": "code",
   "execution_count": 14,
   "metadata": {},
   "outputs": [],
   "source": [
    "import random\n",
    "class RandomPredictor:\n",
    "    def __init__(self, min_rating, max_rating):\n",
    "        self.min_rating = min_rating\n",
    "        self.max_rating = max_rating\n",
    "        self.uim = None\n",
    "\n",
    "    def fit(self, X):\n",
    "        self.uim = X\n",
    "\n",
    "    def predict(self, user_id, rec_seen=True):\n",
    "        if self.uim is None:\n",
    "            raise ValueError(\"Error: fit() method was not called yet.\")\n",
    "        \n",
    "        ratings = dict()\n",
    "        \n",
    "        md = BookData(BOOKS_FILE)\n",
    "\n",
    "        for el in md.data:\n",
    "            book_id = int(el[0])\n",
    "            if self.uim.get_rating(user_id, book_id) is None:\n",
    "                ratings[book_id] = random.randint(self.min_rating, self.max_rating)\n",
    "            elif rec_seen:\n",
    "                ratings[book_id] = self.uim.get_rating(user_id, book_id)\n",
    "        \n",
    "        return ratings\n",
    "\n"
   ]
  },
  {
   "cell_type": "code",
   "execution_count": 20,
   "metadata": {},
   "outputs": [
    {
     "name": "stdout",
     "output_type": "stream",
     "text": [
      "Film: Decision in Normandy, ocena: 1\n",
      "Film: What If?: The World's Foremost Military Historians Imagine What Might Have Been, ocena: 8\n",
      "Film: Isle of Dogs, ocena: 5\n",
      "Film: Female Intelligence, ocena: 2\n",
      "Film: Die Mars- Chroniken. Roman in ErzÃ?Â¤hlungen., ocena: 7\n"
     ]
    }
   ],
   "source": [
    "md = BookData(BOOKS_FILE)\n",
    "uim = UserItemData(RATINGS_FILE)\n",
    "rp = RandomPredictor(1, 10)\n",
    "rp.fit(uim)\n",
    "pred = rp.predict(78)\n",
    "items = [1, 3, 20, 50, 100]\n",
    "for item in items:\n",
    "    print(\"Film: {}, ocena: {}\".format(md.get_title(item), pred[item]))"
   ]
  },
  {
   "cell_type": "markdown",
   "metadata": {},
   "source": [
    "## Priporočanje \n",
    "Razred za priporočanje knjig. Razred v konstruktorju sprejme predikator. Razred ima naslednje metode:\n",
    "- fit(X), kjer je X tipa UserItemData\n",
    "- recommend(userID, n, rec_seen), prejme parametre userID, za katerega bo razred napovedal knjige, n predstavlja število knjig, ki naj jih napove in rec_seen je boolean, ki priporoča že prebrane knjige, če je nastavljen na True. Metoda vrne slovar kjer je ključ bookID in value ocena, ki jo napovemo za to knjigo za tega uporabnika. "
   ]
  },
  {
   "cell_type": "code",
   "execution_count": 6,
   "metadata": {},
   "outputs": [],
   "source": [
    "class Recommender:\n",
    "    def __init__(self, predictor):\n",
    "        self.predictor = predictor\n",
    "    \n",
    "    def fit(self, X):\n",
    "        self.predictor.fit(X)\n",
    "\n",
    "    def recommend(self, user_id, n=10, rec_seen=False):\n",
    "        predictions = self.predictor.predict(user_id, rec_seen)\n",
    "        sorted_predictions = sorted(predictions.items(), key=lambda x: x[1], reverse=True)\n",
    "        return {k: v for k, v in sorted_predictions[:n]}"
   ]
  },
  {
   "cell_type": "code",
   "execution_count": 24,
   "metadata": {},
   "outputs": [
    {
     "name": "stdout",
     "output_type": "stream",
     "text": [
      "Film: The Mummies of Urumchi, ocena: 10\n",
      "Film: Timeline, ocena: 10\n",
      "Film: Prague : A Novel, ocena: 10\n",
      "Film: Shabanu: Daughter of the Wind (Border Trilogy), ocena: 10\n",
      "Film: Haveli (Laurel Leaf Books), ocena: 10\n"
     ]
    }
   ],
   "source": [
    "md = BookData(BOOKS_FILE)\n",
    "uim = UserItemData(RATINGS_FILE)\n",
    "rp = RandomPredictor(1, 10)\n",
    "rec = Recommender(rp)\n",
    "rec.fit(uim)\n",
    "rec_items = rec.recommend(78, n=5, rec_seen=False)\n",
    "for idbook, val in rec_items.items():\n",
    "    print(\"Film: {}, ocena: {}\".format(md.get_title(idbook), val))  "
   ]
  },
  {
   "cell_type": "markdown",
   "metadata": {},
   "source": [
    "## Napovedovanje s povprečjem\n",
    "Razred AveragePredictor sprejme parameter b, ki mora biti večji ali enak 0. Povprečje se izračuna po sledeči formuli:\n",
    "$$ \\text{avg} = \\frac{\\text{vs} + b \\cdot g_{\\text{avg}}}{n + b} $$"
   ]
  },
  {
   "cell_type": "code",
   "execution_count": 27,
   "metadata": {},
   "outputs": [],
   "source": [
    "class AveragePredictor:\n",
    "    def __init__(self, b):\n",
    "        self.__uid = None\n",
    "        self.__b = b\n",
    "    \n",
    "    def fit(self, uim):\n",
    "        self.__uid = uim\n",
    "        self.__ratings = dict()\n",
    "        global_sum_of_ratings = 0\n",
    "        global_counter = 0\n",
    "        book_dict = dict()  # book_id: (number_of_ratings, sum_of_ratings)\n",
    "        md = BookData(BOOKS_FILE)\n",
    "\n",
    "        for el in md.data:\n",
    "            book_id = int(el[0])\n",
    "\n",
    "            sum_of_ratings = self.__uid.get_sum_of_ratings(book_id)\n",
    "            global_sum_of_ratings += sum_of_ratings\n",
    "            number_of_ratings = self.__uid.get_number_of_ratings(book_id)\n",
    "            global_counter += number_of_ratings\n",
    "\n",
    "            book_dict[book_id] = (number_of_ratings, sum_of_ratings)\n",
    "        \n",
    "        global_avg = float(global_sum_of_ratings / global_counter)\n",
    "        for book_id, (number_of_ratings, sum_of_ratings) in book_dict.items():\n",
    "                    self.__ratings[book_id] = (sum_of_ratings + self.__b * global_avg) / (number_of_ratings + self.__b)\n",
    "\n",
    "    def predict(self, user_id, rec_seen=True):\n",
    "        if self.__uid is None:\n",
    "            raise ValueError(\"Error: fit() method was not called yet.\")\n",
    "        \n",
    "        \n",
    "        predictions = {}\n",
    "        user_rated_books = set()\n",
    "\n",
    "        if not rec_seen:\n",
    "            for (_, (uid, mid, _)) in self.__uid.data.iterrows():\n",
    "                if uid == user_id:\n",
    "                    user_rated_books.add(mid)\n",
    "\n",
    "        for book_id, avg_rating in self.__ratings.items():\n",
    "            if rec_seen or book_id not in user_rated_books:\n",
    "                predictions[book_id] = avg_rating\n",
    "\n",
    "        return predictions"
   ]
  },
  {
   "cell_type": "code",
   "execution_count": 28,
   "metadata": {},
   "outputs": [
    {
     "name": "stdout",
     "output_type": "stream",
     "text": [
      "Film: Harry Potter and the Chamber of Secrets (Book 2), ocena: 8.546645294863009\n",
      "Film: Tycoon'S Temptation (Silhouette Desire, No. 1414), ocena: 8.4728569131659\n",
      "Film: Deadly Decisions, ocena: 8.465670467002166\n",
      "Film: Past Lives, Present Dreams: How to Use Reincarnation for Personal Growth, ocena: 8.464733811640189\n",
      "Film: Seabiscuit: An American Legend, ocena: 8.43566448895003\n"
     ]
    }
   ],
   "source": [
    "md = BookData(BOOKS_FILE)\n",
    "uim = UserItemData(RATINGS_FILE)\n",
    "rp = AveragePredictor(100)\n",
    "rec = Recommender(rp)\n",
    "rec.fit(uim)\n",
    "rec_items = rec.recommend(78, n=5, rec_seen=False)\n",
    "for idbook, val in rec_items.items():\n",
    "    print(\"Film: {}, ocena: {}\".format(md.get_title(idbook), val))  "
   ]
  },
  {
   "cell_type": "markdown",
   "metadata": {},
   "source": [
    "## Napovedovanje s številom ogledov\n",
    "Prediktor ViewsPredictor za vsak film vrne število ogledov posameznega filma. Za ogled filma sem štel oceno. "
   ]
  },
  {
   "cell_type": "code",
   "execution_count": 29,
   "metadata": {},
   "outputs": [],
   "source": [
    "class ViewsPredictor:\n",
    "    def __init__(self):\n",
    "        self.__uid = None\n",
    "    \n",
    "    def fit(self, uim):\n",
    "        self.__uid = uim\n",
    "        self.__ratings = dict()\n",
    "        md = BookData(BOOKS_FILE)\n",
    "        for line in md.data:\n",
    "            book_id = int(line[0])\n",
    "            self.__ratings[book_id] = uim.get_number_of_ratings(book_id)\n",
    "    \n",
    "    def predict(self, user_id, rec_seen=True):\n",
    "        if self.__uid is None:\n",
    "            raise ValueError(\"Error: fit() method was not called yet.\")\n",
    "        \n",
    "        \n",
    "        predictions = {}\n",
    "        user_rated_books = self.__uid.data[self.__uid.data['userID'] == user_id]['bookID'].unique()\n",
    "\n",
    "        for book_id, avg_rating in self.__ratings.items():\n",
    "            if rec_seen or book_id not in user_rated_books:\n",
    "                predictions[book_id] = avg_rating\n",
    "\n",
    "        return predictions"
   ]
  },
  {
   "cell_type": "code",
   "execution_count": 30,
   "metadata": {},
   "outputs": [
    {
     "name": "stdout",
     "output_type": "stream",
     "text": [
      "Film: Impossible Vacation, ocena: 160\n",
      "Film: The Rescue, ocena: 119\n",
      "Film: Tycoon'S Temptation (Silhouette Desire, No. 1414), ocena: 89\n",
      "Film: Past Lives, Present Dreams: How to Use Reincarnation for Personal Growth, ocena: 88\n",
      "Film: The Queen of the Damned (Vampire Chronicles (Paperback)), ocena: 86\n"
     ]
    }
   ],
   "source": [
    "md = BookData(BOOKS_FILE)\n",
    "uim = UserItemData(RATINGS_FILE)\n",
    "rp = ViewsPredictor()\n",
    "rec = Recommender(rp)\n",
    "rec.fit(uim)\n",
    "rec_items = rec.recommend(78, n=5, rec_seen=False)\n",
    "for idbook, val in rec_items.items():\n",
    "    print(\"Film: {}, ocena: {}\".format(md.get_title(idbook), val))  "
   ]
  },
  {
   "cell_type": "markdown",
   "metadata": {},
   "source": [
    "## Napovedovanje ocen s podobnostjo med produkti\n",
    "Razred ItemBasedPredictor v konstruktorju prejme parametra min_values, ki pove, koliko je najmanjše število uporabnikov, ki je ocenilo obe knjigi in threashold, ki pove koliko mora biti najmanjša podobnost med knjigama, da upoštevamo podobnost. Podobnost se računa s popravljeno kosinusno razdaljo:\n",
    "$$\n",
    "\\text{sim}(i, j) = \\frac{\\sum_{u \\in U_{i,j}} \\left( (R_{u,i} - R_u) \\cdot (R_{u,j} - R_u) \\right)}\n",
    "{\\sqrt{\\sum_{u \\in U_{i,j}} (R_{u,i} - R_u)^2} \\cdot \\sqrt{\\sum_{u \\in U_{i,j}} (R_{u,j} - R_u)^2}}\n",
    "$$\n",
    "Razred ima naslednje metode:\n",
    "- fit(X), kjer je X tipa UserItemData. Metoda ne vrne ničesar, naredi pa matriko podobnosti, kjer so stolpci in vrstice knjige.\n",
    "- predict(userID, rec_seen), ki prejme parameter userID, za katerega bomo napovedovali, in rec_seen, ki priporoči že videne filme, če je nastavljen na True. Funkcija vrne slovar, kjer je ključ bookID in vrednost napovedana ocena. \n",
    "- similarity(i1, i2), ki prejme dva bookID. Funkcija vrne podobnost med podanima knjigama."
   ]
  },
  {
   "cell_type": "code",
   "execution_count": 7,
   "metadata": {},
   "outputs": [],
   "source": [
    "class ItemBasedPredictor:\n",
    "    def __init__(self, min_values=0, threshold=0):\n",
    "        self.__uid = None\n",
    "        self.__min_values = min_values\n",
    "        self.__threshold = threshold\n",
    "    \n",
    "    def fit(self, uim):\n",
    "        self.__uid = uim\n",
    "        self.__uuid = sorted(list(self.__uid.data['userID'].unique()))\n",
    "        self.__umid = sorted(list(self.__uid.data['bookID'].unique()))\n",
    "        \n",
    "        self.__matrix_ratings = [[None for _ in range(len(self.__umid))] for _ in range(len(self.__uuid))]\n",
    "        \n",
    "        for (_, (uid, mid, rating)) in self.__uid.data.iterrows():\n",
    "            if(mid in self.__umid and uid in self.__uuid):\n",
    "                self.__matrix_ratings[self.__uuid.index(uid)][self.__umid.index(mid)] = rating\n",
    "\n",
    "        self.__df_matrix_ratings = pd.DataFrame(self.__matrix_ratings, columns=self.__umid, index=self.__uuid)\n",
    "        self.__df_matrix_ratings.replace(0, pd.NA, inplace=True)\n",
    "\n",
    "        self.__averages = list(self.__df_matrix_ratings.mean(axis=1, skipna=True))\n",
    "\n",
    "        for i in range(len(self.__matrix_ratings)):\n",
    "            for j in range(len(self.__matrix_ratings[i])):\n",
    "                if self.__matrix_ratings[i][j]:\n",
    "                    self.__matrix_ratings[i][j] = self.__matrix_ratings[i][j] - self.__averages[i]\n",
    "        \n",
    "        self.similarity_matrix = [[0 for _ in range(len(self.__umid))] for _ in range(len(self.__umid))]\n",
    "\n",
    "        for i in range(len(self.__umid)):\n",
    "            for j in range(i, len(self.__umid)):\n",
    "                if i == j:\n",
    "                    self.similarity_matrix[i][j] = 1\n",
    "                else:\n",
    "                    sim = self.__sim(i, j)\n",
    "                    self.similarity_matrix[i][j] = sim\n",
    "                    self.similarity_matrix[j][i] = sim\n",
    "\n",
    "    def __sim(self, i1, i2):\n",
    "        num = 0\n",
    "        den1 = 0\n",
    "        den2 = 0\n",
    "        counter = 0\n",
    "\n",
    "        for user_ratings in self.__matrix_ratings:\n",
    "            if user_ratings[i1] and user_ratings[i2]:\n",
    "                num += user_ratings[i1] * user_ratings[i2]\n",
    "                den1 += user_ratings[i1] ** 2\n",
    "                den2 += user_ratings[i2] ** 2\n",
    "                counter += 1\n",
    "        \n",
    "        \n",
    "        den = (den1 ** 0.5) * (den2 ** 0.5)\n",
    "        return num / den if den != 0 and counter >= self.__min_values and num / den > self.__threshold else 0\n",
    "    \n",
    "    def similarity(self, i1, i2):\n",
    "        return self.similarity_matrix[self.__umid.index(i1)][self.__umid.index(i2)]\n",
    "    \n",
    "    def predict(self, userID, rec_seen=True):\n",
    "        if self.__uid is None:\n",
    "            raise ValueError(\"Error: fit() method was not called yet.\")\n",
    "        \n",
    "        predictions = {}\n",
    "\n",
    "        for j in range(len(self.__matrix_ratings[0])):\n",
    "            if self.__matrix_ratings[self.__uuid.index(userID)][j] is None:\n",
    "                num = 0\n",
    "                den = 0\n",
    "                for i in range(len(self.__matrix_ratings[0])):\n",
    "                    if self.__matrix_ratings[self.__uuid.index(userID)][i]:\n",
    "                        num += self.similarity_matrix[j][i] * self.__matrix_ratings[self.__uuid.index(userID)][i]\n",
    "                        den += self.similarity_matrix[j][i]\n",
    "                if den != 0:\n",
    "                    predictions[self.__umid[j]] = (num / den) + self.__averages[self.__uuid.index(userID)]\n",
    "        \n",
    "        if rec_seen:\n",
    "            for el in self.__umid:\n",
    "                if self.__matrix_ratings[self.__uuid.index(userID)][self.__umid.index(el)]:\n",
    "                    predictions[el] = self.__matrix_ratings[self.__uuid.index(userID)][self.__umid.index(el)]\n",
    "        else:\n",
    "            return predictions\n",
    "        \n",
    "    def get_n_most_similar_books(self, n):\n",
    "        similar_books = dict()\n",
    "        for i in range(len(self.similarity_matrix)):\n",
    "            for j in range(i, len(self.similarity_matrix[i])):\n",
    "                if i != j:\n",
    "                    similar_books[(self.__umid[i], self.__umid[j])] = self.similarity_matrix[i][j]\n",
    "        \n",
    "        return dict(sorted(similar_books.items(), key=lambda x: x[1], reverse=True)[:n])\n",
    "    \n",
    "    def similar_items(self, item, n):\n",
    "        return_dict = dict()\n",
    "        for i in range(len(self.similarity_matrix[self.__umid.index(item)])):\n",
    "            return_dict[self.__umid[i]] = self.similarity_matrix[self.__umid.index(item)][i]\n",
    "        \n",
    "        return dict(sorted(return_dict.items(), key=lambda x: x[1], reverse=True)[1:n + 1])"
   ]
  },
  {
   "cell_type": "code",
   "execution_count": 25,
   "metadata": {},
   "outputs": [
    {
     "name": "stdout",
     "output_type": "stream",
     "text": [
      "Podobnost med filmoma Impossible Vacation in Reckless Abandon:  0.012999118515033369\n",
      "Podobnost med filmoma Impossible Vacation in Martha Stuart's Better Than You at Entertaining (A Parody): 0.462016133727974\n",
      "Podobnost med filmoma Impossible Vacation in What a Wonderful World: A Lifetime of Recordings: 0.21345636076006932\n"
     ]
    }
   ],
   "source": [
    "md = BookData(BOOKS_FILE)\n",
    "uim = UserItemData(RATINGS_FILE, min_ratings=50)\n",
    "rp = ItemBasedPredictor()\n",
    "rec = Recommender(rp)\n",
    "rec.fit(uim)\n",
    "print(\"Podobnost med filmoma\", md.get_title(228), \"in\", md.get_title(2332) + \": \", rp.similarity(228, 2332))\n",
    "print(\"Podobnost med filmoma\", md.get_title(228), \"in\", md.get_title(1199) + \":\", rp.similarity(228, 1199))\n",
    "print(\"Podobnost med filmoma\", md.get_title(228), \"in\", md.get_title(202) + \":\", rp.similarity(228, 202))"
   ]
  },
  {
   "cell_type": "code",
   "execution_count": 79,
   "metadata": {},
   "outputs": [
    {
     "name": "stdout",
     "output_type": "stream",
     "text": [
      "Predictions for 78: \n",
      "  -Knjiga: Impossible Vacation, ocena: 9.0\n",
      "  -Knjiga: The Girls' Guide to Hunting and Fishing, ocena: 9.0\n",
      "  -Knjiga: The Rescue, ocena: 9.0\n",
      "  -Knjiga: The Truth About Texas: Who Needs to Brag? We'Ve Got the Facts, ocena: 9.0\n",
      "  -Knjiga: Martha Stuart's Better Than You at Entertaining (A Parody), ocena: 9.0\n",
      "  -Knjiga: The Queen of the Damned (Vampire Chronicles (Paperback)), ocena: 9.0\n",
      "  -Knjiga: The 10th Kingdom (Hallmark Entertainment Books), ocena: 8.733898279090134\n",
      "  -Knjiga: Seabiscuit: An American Legend, ocena: 8.693729339753363\n",
      "  -Knjiga: Past Lives, Present Dreams: How to Use Reincarnation for Personal Growth, ocena: 8.606500990016562\n",
      "  -Knjiga: The Mummy or Ramses the Damned, ocena: 8.485443086871669\n",
      "  -Knjiga: Deadly Decisions, ocena: 8.475534550148861\n",
      "  -Knjiga: Carnal Innocence, ocena: 8.44116432327583\n",
      "  -Knjiga: Harry Potter and the Chamber of Secrets (Book 2), ocena: 8.276131616877434\n",
      "  -Knjiga: Life's Little Instruction Book, ocena: 8.094883303942312\n",
      "  -Knjiga: El Senor De Los Anillos: LA Comunidad Del Anillo (Lord of the Rings (Spanish)), ocena: 8.0\n"
     ]
    }
   ],
   "source": [
    "print(\"Predictions for 78: \")\n",
    "rec_items = rec.recommend(78, n=15, rec_seen=False)\n",
    "for idbook, val in rec_items.items():\n",
    "    print(\"  -Knjiga: {}, ocena: {}\".format(md.get_title(idbook), val))"
   ]
  },
  {
   "cell_type": "code",
   "execution_count": 39,
   "metadata": {},
   "outputs": [
    {
     "name": "stdout",
     "output_type": "stream",
     "text": [
      "Knjiga1: Rules of the Wild, Knjiga2: She's Come Undone (Oprah's Book Club (Paperback)), Podobnost: 1.0000000000000002\n",
      "Knjiga1: Mama Makes Up Her Mind: And Other Dangers of Southern Living, Knjiga2: Harry Potter and the Chamber of Secrets (Book 2), Podobnost: 1.0000000000000002\n",
      "Knjiga1: Reckless Abandon, Knjiga2: Past Lives, Present Dreams: How to Use Reincarnation for Personal Growth, Podobnost: 1.0000000000000002\n",
      "Knjiga1: Airframe, Knjiga2: Tu Nombre Escrito En El Agua (La Sonrisa Vertical), Podobnost: 1.0\n",
      "Knjiga1: Airframe, Knjiga2: Martha Stuart's Better Than You at Entertaining (A Parody), Podobnost: 1.0\n",
      "Knjiga1: Tu Nombre Escrito En El Agua (La Sonrisa Vertical), Knjiga2: The Mummy or Ramses the Damned, Podobnost: 1.0\n",
      "Knjiga1: Tu Nombre Escrito En El Agua (La Sonrisa Vertical), Knjiga2: Imaginary Lands, Podobnost: 1.0\n",
      "Knjiga1: The Deal, Knjiga2: Mansfield Park (Signet Classics (Paperback)), Podobnost: 1.0\n",
      "Knjiga1: The Deal, Knjiga2: The Selfish Gene, Podobnost: 1.0\n",
      "Knjiga1: The Deal, Knjiga2: Carnal Innocence, Podobnost: 1.0\n",
      "Knjiga1: Murder at the Kennedy Center (Capital Crime Mysteries), Knjiga2: Flight from Big Tangle (Orca Young Reader), Podobnost: 1.0\n",
      "Knjiga1: Murder at the Kennedy Center (Capital Crime Mysteries), Knjiga2: Silverlight: The Arcana, Book II (Arcana/Morgan Llywelyn, Bk 2), Podobnost: 1.0\n",
      "Knjiga1: Falling Leaves: The True Story of an Unwanted Chinese Daughter, Knjiga2: JITTERBUG PERFUME, Podobnost: 1.0\n",
      "Knjiga1: Falling Leaves: The True Story of an Unwanted Chinese Daughter, Knjiga2: Flight from Big Tangle (Orca Young Reader), Podobnost: 1.0\n",
      "Knjiga1: The Right Hand of Amon, Knjiga2: The Cider House Rules, Podobnost: 1.0\n",
      "Knjiga1: Rules of the Wild, Knjiga2: The Selfish Gene, Podobnost: 1.0\n",
      "Knjiga1: The Mummy or Ramses the Damned, Knjiga2: Look at Me, Podobnost: 1.0\n",
      "Knjiga1: She's Come Undone (Oprah's Book Club (Paperback)), Knjiga2: Deadly Decisions, Podobnost: 1.0\n",
      "Knjiga1: JITTERBUG PERFUME, Knjiga2: The 10th Kingdom (Hallmark Entertainment Books), Podobnost: 1.0\n",
      "Knjiga1: Jurassic Park, Knjiga2: Mansfield Park (Signet Classics (Paperback)), Podobnost: 1.0\n"
     ]
    }
   ],
   "source": [
    "result = rp.get_n_most_similar_books(20)\n",
    "for (film1, film2), v in result.items():\n",
    "    print(\"Knjiga1:\", md.get_title(int(film1)) + \", Knjiga2:\", md.get_title(int(film2)) + \", Podobnost:\", v)"
   ]
  },
  {
   "cell_type": "markdown",
   "metadata": {},
   "source": [
    "### Priporočanje tipa \"Bralci, ki so brali A, so brali tudi B\"? "
   ]
  },
  {
   "cell_type": "code",
   "execution_count": 38,
   "metadata": {},
   "outputs": [
    {
     "name": "stdout",
     "output_type": "stream",
     "text": [
      "Filmi podobni \"The Lord of the Rings: The Fellowship of the Ring\": \n",
      "Film: Jurassic Park, ocena: 1.0\n",
      "Film: The Selfish Gene, ocena: 1.0\n",
      "Film: Martha Stuart's Better Than You at Entertaining (A Parody), ocena: 1\n",
      "Film: The Cider House Rules, ocena: 0.819017231472004\n",
      "Film: Mama Makes Up Her Mind: And Other Dangers of Southern Living, ocena: 0.632855843958507\n",
      "Film: Mansfield Park (Signet Classics (Paperback)), ocena: 0.6244709737980126\n",
      "Film: Winterdance: The Fine Madness of Running the Iditarod, ocena: 0.5232506837254686\n",
      "Film: Impossible Vacation, ocena: 0.462016133727974\n",
      "Film: Seabiscuit: An American Legend, ocena: 0.3790011805627099\n",
      "Film: El Senor De Los Anillos: LA Comunidad Del Anillo (Lord of the Rings (Spanish)), ocena: 0.3470071277297951\n"
     ]
    }
   ],
   "source": [
    "rec_items = rp.similar_items(1199, 10)\n",
    "print('Filmi podobni \"The Lord of the Rings: The Fellowship of the Ring\": ')\n",
    "for idbook, val in rec_items.items():\n",
    "    print(\"Film: {}, ocena: {}\".format(md.get_title(idbook), val))"
   ]
  },
  {
   "cell_type": "markdown",
   "metadata": {},
   "source": [
    "## Priporočilo zame\n",
    "Dodal sem 49 ocen še zase. "
   ]
  },
  {
   "cell_type": "code",
   "execution_count": 36,
   "metadata": {},
   "outputs": [
    {
     "name": "stdout",
     "output_type": "stream",
     "text": [
      "[ 202 2566 1714 1893 2565 1440  259  228   44  407 1018   74  388  799\n",
      "    8 1136 1289 2597   14  132  643  900 2156   64  504 1272 1199  642\n",
      "  329 1888 1169  997   56 1315  297  281  243  594 2332  707  595]\n",
      "Predictions for me: \n",
      "  -Knjiga: Desperation, ocena: 6.499747368046444\n",
      "  -Knjiga: She's Come Undone (Oprah's Book Club (Paperback)), ocena: 6.31118042904847\n",
      "  -Knjiga: The Selfish Gene, ocena: 5.505889775778636\n",
      "  -Knjiga: Summer of Storms, ocena: 5.495625056531859\n",
      "  -Knjiga: Tu Nombre Escrito En El Agua (La Sonrisa Vertical), ocena: 5.027492317557118\n",
      "  -Knjiga: Coyote Waits (Joe Leaphorn/Jim Chee Novels), ocena: 5.0\n",
      "  -Knjiga: The Rescue, ocena: 4.977800712582963\n",
      "  -Knjiga: What a Wonderful World: A Lifetime of Recordings, ocena: 4.791546032197206\n",
      "  -Knjiga: Jurassic Park, ocena: 4.742171984750613\n",
      "  -Knjiga: Imaginary Lands, ocena: 4.391107815975575\n"
     ]
    }
   ],
   "source": [
    "md = BookData(BOOKS_FILE)\n",
    "uim = UserItemData('data/book_crossing/book_ratings_mine.dat', min_ratings=50)\n",
    "rp = ItemBasedPredictor()\n",
    "rec = Recommender(rp)\n",
    "rec.fit(uim)\n",
    "print(\"Predictions for me: \")\n",
    "rec_items = rec.recommend(69350, n=10, rec_seen=False)\n",
    "for idbook, val in rec_items.items():\n",
    "    print(\"  -Knjiga: {}, ocena: {}\".format(md.get_title(idbook), val))"
   ]
  },
  {
   "cell_type": "markdown",
   "metadata": {},
   "source": [
    "## Slope one\n",
    "Razred SlopeOnePredicator napoveduje ocene glede na metodo Slope one. V programu sem uporabil spodnji formuli.\n",
    "$$\n",
    "dev(i, j) = \\frac{\\sum_{u \\in U_{i,j}} (R_{u,i} - R_{u,j})}{|U_{i,j}|}\n",
    "$$\n",
    "$$\n",
    "pred(u, i) = \\frac{\\sum_{j \\in I_u} \\big((dev(i, j) + R_{u,j}) \\cdot |U_{i,j}|\\big)}{\\sum_{j \\in I_u} |U_{i,j}|}\n",
    "$$\n",
    "Razred ima ponovno metodi fit in predict, metoda fit prejme instanco razreda UserItemData in predict prejme userID ter rec_seen."
   ]
  },
  {
   "cell_type": "code",
   "execution_count": 39,
   "metadata": {},
   "outputs": [],
   "source": [
    "class SlopeOnePredictor:\n",
    "    def __init__(self):\n",
    "        self.__uid = None\n",
    "        self.__dev_matrix = None\n",
    "        self.__uuid = None\n",
    "        self.__umid = None\n",
    "        self.__matrix_ratings = None\n",
    "        self.__rated_both = None\n",
    "    \n",
    "    def fit(self, uid):\n",
    "        self.__uid = uid\n",
    "        self.__uuid = sorted(list(self.__uid.data['userID'].unique()))\n",
    "        self.__umid = sorted(list(self.__uid.data['bookID'].unique()))\n",
    "\n",
    "        self.__matrix_ratings = [[None for _ in range(len(self.__umid))] for _ in range(len(self.__uuid))]\n",
    "        self.__rated_both = [[None for _ in range(len(self.__umid))] for _ in range(len(self.__umid))]\n",
    "        \n",
    "        for (_, (uid, mid, rating)) in self.__uid.data.iterrows():\n",
    "            if(mid in self.__umid and uid in self.__uuid):\n",
    "                self.__matrix_ratings[self.__uuid.index(uid)][self.__umid.index(mid)] = rating\n",
    "        \n",
    "        self.__dev_matrix = [[0 for _ in range(len(self.__umid))] for _ in range(len(self.__umid))]\n",
    "        for i in range(len(self.__umid)):\n",
    "            for j in range(i, len(self.__umid)):\n",
    "                if i == j:\n",
    "                    self.__dev_matrix[i][j] = 0\n",
    "                else:\n",
    "                    dev = self.__dev(i, j)\n",
    "                    self.__dev_matrix[i][j] = dev[0]\n",
    "                    self.__dev_matrix[j][i] = 0 - dev[0]\n",
    "                    self.__rated_both[i][j] = dev[1]\n",
    "                    self.__rated_both[j][i] = dev[1]\n",
    "    \n",
    "    def __dev(self, i, j):\n",
    "        num = 0\n",
    "        den = 0\n",
    "\n",
    "        for u in range(len(self.__uuid)):\n",
    "            if(self.__matrix_ratings[u][i] and self.__matrix_ratings[u][j]):\n",
    "                num += (self.__matrix_ratings[u][i] - self.__matrix_ratings[u][j])\n",
    "                den += 1\n",
    "        \n",
    "        return ((num/den), den) if den > 0 else (0, den)\n",
    "            \n",
    "    \n",
    "    def predict(self, userID, rec_seen=True):\n",
    "        predictions = {}\n",
    "        for el in range(len(self.__umid)):\n",
    "            if self.__matrix_ratings[self.__uuid.index(userID)][el] == None:\n",
    "                predictions[self.__umid[el]] = self.__get_prediction(userID, el)\n",
    "            elif rec_seen:\n",
    "                predictions[self.__umid[el]] = self.__matrix_ratings[self.__uuid.index(userID)][el]\n",
    "        return predictions\n",
    "\n",
    "    def __get_prediction(self, userID, i):\n",
    "        num = 0\n",
    "        dev = 0\n",
    "        for j in range(len(self.__umid)):\n",
    "            if self.__matrix_ratings[self.__uuid.index(userID)][j]:\n",
    "                num += (self.__dev(i, j)[0] + self.__matrix_ratings[self.__uuid.index(userID)][j]) * self.__rated_both[i][j]\n",
    "                dev += self.__rated_both[i][j]\n",
    "        \n",
    "        return num / dev if dev > 0 else 0"
   ]
  },
  {
   "cell_type": "code",
   "execution_count": 40,
   "metadata": {},
   "outputs": [
    {
     "name": "stdout",
     "output_type": "stream",
     "text": [
      "Predictions for 78: \n",
      "Film: Mama Makes Up Her Mind: And Other Dangers of Southern Living, ocena: 9.285714285714286\n",
      "Film: Seabiscuit: An American Legend, ocena: 9.222222222222221\n",
      "Film: Tycoon'S Temptation (Silhouette Desire, No. 1414), ocena: 9.1\n",
      "Film: Mansfield Park (Signet Classics (Paperback)), ocena: 8.818181818181818\n",
      "Film: Martha Stuart's Better Than You at Entertaining (A Parody), ocena: 8.538461538461538\n",
      "Film: Flight from Big Tangle (Orca Young Reader), ocena: 8.444444444444445\n",
      "Film: The Cider House Rules, ocena: 8.428571428571429\n",
      "Film: Impossible Vacation, ocena: 8.4\n",
      "Film: El Senor De Los Anillos: LA Comunidad Del Anillo (Lord of the Rings (Spanish)), ocena: 8.346153846153847\n",
      "Film: Past Lives, Present Dreams: How to Use Reincarnation for Personal Growth, ocena: 8.294117647058824\n",
      "Film: Carnal Innocence, ocena: 8.25\n",
      "Film: Harry Potter and the Chamber of Secrets (Book 2), ocena: 8.2\n",
      "Film: The Truth About Texas: Who Needs to Brag? We'Ve Got the Facts, ocena: 8.181818181818182\n",
      "Film: She's Come Undone (Oprah's Book Club (Paperback)), ocena: 8.136363636363637\n",
      "Film: The Rescue, ocena: 8.1\n"
     ]
    }
   ],
   "source": [
    "md = BookData(BOOKS_FILE)\n",
    "uim = UserItemData(RATINGS_FILE, min_ratings=50)\n",
    "rp = SlopeOnePredictor()\n",
    "rec = Recommender(rp)\n",
    "rec.fit(uim)\n",
    "\n",
    "print(\"Predictions for 78: \")\n",
    "rec_items = rec.recommend(78, n=15, rec_seen=False)\n",
    "for idmovie, val in rec_items.items():\n",
    "    print(\"Film: {}, ocena: {}\".format(md.get_title(idmovie), val))"
   ]
  }
 ],
 "metadata": {
  "kernelspec": {
   "display_name": "PriporocilniSistemEnv",
   "language": "python",
   "name": "python3"
  },
  "language_info": {
   "codemirror_mode": {
    "name": "ipython",
    "version": 3
   },
   "file_extension": ".py",
   "mimetype": "text/x-python",
   "name": "python",
   "nbconvert_exporter": "python",
   "pygments_lexer": "ipython3",
   "version": "3.12.3"
  }
 },
 "nbformat": 4,
 "nbformat_minor": 2
}
