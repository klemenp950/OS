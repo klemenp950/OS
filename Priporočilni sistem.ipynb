{
 "cells": [
  {
   "cell_type": "code",
   "execution_count": 1,
   "metadata": {},
   "outputs": [],
   "source": [
    "from UserItemData import UserItemData\n",
    "from MovieData import MovieData\n",
    "from RandomPredictor import RandomPredictor\n",
    "from Recommender import Recommender\n",
    "from AveragePredictor import AveragePredictor\n",
    "from ViewsPredictor import ViewsPredictor\n",
    "from ItemBasedPredictor import ItemBasedPredictor"
   ]
  },
  {
   "cell_type": "code",
   "execution_count": 2,
   "metadata": {},
   "outputs": [
    {
     "name": "stdout",
     "output_type": "stream",
     "text": [
      "<class 'dict'>\n",
      "Film: Toy story, ocena: 5\n",
      "Film: Grumpy Old Men, ocena: 3\n",
      "Film: Money Train, ocena: 3\n",
      "Film: The Usual Suspects, ocena: 5\n",
      "Film: City Hall, ocena: 3\n"
     ]
    }
   ],
   "source": [
    "md = MovieData('data/movies.dat')\n",
    "uim = UserItemData('data/user_ratedmovies.dat')\n",
    "rp = RandomPredictor(1, 5)\n",
    "rp.fit(uim)\n",
    "pred = rp.predict(78)\n",
    "print(type(pred))\n",
    "items = [1, 3, 20, 50, 100]\n",
    "for item in items:\n",
    "    print(\"Film: {}, ocena: {}\".format(md.get_title(item), pred[item]))"
   ]
  },
  {
   "cell_type": "code",
   "execution_count": null,
   "metadata": {},
   "outputs": [
    {
     "name": "stdout",
     "output_type": "stream",
     "text": [
      "Film: Toy story, ocena: 5\n",
      "Film: Jumanji, ocena: 5\n",
      "Film: Waiting to Exhale, ocena: 5\n",
      "Film: Tom and Huck, ocena: 5\n",
      "Film: The American President, ocena: 5\n"
     ]
    }
   ],
   "source": [
    "md = MovieData('data/movies.dat')\n",
    "uim = UserItemData('data/user_ratedmovies.dat')\n",
    "rp = RandomPredictor(1, 5)\n",
    "rec = Recommender(rp)\n",
    "rec.fit(uim)\n",
    "rec_items = rec.recommend(78, n=5, rec_seen=False)\n",
    "for idmovie, val in rec_items.items():\n",
    "    print(\"Film: {}, ocena: {}\".format(md.get_title(idmovie), val))  "
   ]
  },
  {
   "cell_type": "code",
   "execution_count": null,
   "metadata": {},
   "outputs": [
    {
     "name": "stdout",
     "output_type": "stream",
     "text": [
      "Film: The Usual Suspects, ocena: 4.225944245560473\n",
      "Film: The Godfather: Part II, ocena: 4.146907937910189\n",
      "Film: Cidade de Deus, ocena: 4.116538340205236\n",
      "Film: The Dark Knight, ocena: 4.10413904093503\n",
      "Film: 12 Angry Men, ocena: 4.103639627096175\n"
     ]
    }
   ],
   "source": [
    "md = MovieData('data/movies.dat')\n",
    "uim = UserItemData('data/user_ratedmovies.dat')\n",
    "rp = AveragePredictor(100)\n",
    "rec = Recommender(rp)\n",
    "rec.fit(uim)\n",
    "rec_items = rec.recommend(78, n=5, rec_seen=False)\n",
    "for idmovie, val in rec_items.items():\n",
    "    print(\"Film: {}, ocena: {}\".format(md.get_title(idmovie), val))  "
   ]
  },
  {
   "cell_type": "code",
   "execution_count": 2,
   "metadata": {},
   "outputs": [
    {
     "ename": "KeyboardInterrupt",
     "evalue": "",
     "output_type": "error",
     "traceback": [
      "\u001b[0;31m---------------------------------------------------------------------------\u001b[0m",
      "\u001b[0;31mKeyboardInterrupt\u001b[0m                         Traceback (most recent call last)",
      "Cell \u001b[0;32mIn[2], line 5\u001b[0m\n\u001b[1;32m      3\u001b[0m rp \u001b[38;5;241m=\u001b[39m ViewsPredictor()\n\u001b[1;32m      4\u001b[0m rec \u001b[38;5;241m=\u001b[39m Recommender(rp)\n\u001b[0;32m----> 5\u001b[0m \u001b[43mrec\u001b[49m\u001b[38;5;241;43m.\u001b[39;49m\u001b[43mfit\u001b[49m\u001b[43m(\u001b[49m\u001b[43muim\u001b[49m\u001b[43m)\u001b[49m\n\u001b[1;32m      6\u001b[0m rec_items \u001b[38;5;241m=\u001b[39m rec\u001b[38;5;241m.\u001b[39mrecommend(\u001b[38;5;241m78\u001b[39m, n\u001b[38;5;241m=\u001b[39m\u001b[38;5;241m5\u001b[39m, rec_seen\u001b[38;5;241m=\u001b[39m\u001b[38;5;28;01mFalse\u001b[39;00m)\n\u001b[1;32m      7\u001b[0m \u001b[38;5;28;01mfor\u001b[39;00m idmovie, val \u001b[38;5;129;01min\u001b[39;00m rec_items\u001b[38;5;241m.\u001b[39mitems():\n",
      "File \u001b[0;32m~/Faks/OS/Recommender.py:6\u001b[0m, in \u001b[0;36mRecommender.fit\u001b[0;34m(self, X)\u001b[0m\n\u001b[1;32m      5\u001b[0m \u001b[38;5;28;01mdef\u001b[39;00m\u001b[38;5;250m \u001b[39m\u001b[38;5;21mfit\u001b[39m(\u001b[38;5;28mself\u001b[39m, X):\n\u001b[0;32m----> 6\u001b[0m     \u001b[38;5;28;43mself\u001b[39;49m\u001b[38;5;241;43m.\u001b[39;49m\u001b[43mpredictor\u001b[49m\u001b[38;5;241;43m.\u001b[39;49m\u001b[43mfit\u001b[49m\u001b[43m(\u001b[49m\u001b[43mX\u001b[49m\u001b[43m)\u001b[49m\n",
      "File \u001b[0;32m~/Faks/OS/ViewsPredictor.py:13\u001b[0m, in \u001b[0;36mViewsPredictor.fit\u001b[0;34m(self, uim)\u001b[0m\n\u001b[1;32m     11\u001b[0m \u001b[38;5;28;01mfor\u001b[39;00m line \u001b[38;5;129;01min\u001b[39;00m md\u001b[38;5;241m.\u001b[39mdata:\n\u001b[1;32m     12\u001b[0m     movie_id \u001b[38;5;241m=\u001b[39m \u001b[38;5;28mint\u001b[39m(line[\u001b[38;5;241m0\u001b[39m])\n\u001b[0;32m---> 13\u001b[0m     \u001b[38;5;28mself\u001b[39m\u001b[38;5;241m.\u001b[39m__ratings[movie_id] \u001b[38;5;241m=\u001b[39m \u001b[43muim\u001b[49m\u001b[38;5;241;43m.\u001b[39;49m\u001b[43mget_number_of_ratings\u001b[49m\u001b[43m(\u001b[49m\u001b[43mmovie_id\u001b[49m\u001b[43m)\u001b[49m\n",
      "File \u001b[0;32m~/Faks/OS/UserItemData.py:72\u001b[0m, in \u001b[0;36mUserItemData.get_number_of_ratings\u001b[0;34m(self, movie_id)\u001b[0m\n\u001b[1;32m     71\u001b[0m \u001b[38;5;28;01mdef\u001b[39;00m\u001b[38;5;250m \u001b[39m\u001b[38;5;21mget_number_of_ratings\u001b[39m(\u001b[38;5;28mself\u001b[39m, movie_id):\n\u001b[0;32m---> 72\u001b[0m     movie_ratings_count \u001b[38;5;241m=\u001b[39m \u001b[38;5;28;43mself\u001b[39;49m\u001b[38;5;241;43m.\u001b[39;49m\u001b[43mdata\u001b[49m\u001b[38;5;241;43m.\u001b[39;49m\u001b[43mgroupby\u001b[49m\u001b[43m(\u001b[49m\u001b[38;5;124;43m'\u001b[39;49m\u001b[38;5;124;43mmovieID\u001b[39;49m\u001b[38;5;124;43m'\u001b[39;49m\u001b[43m)\u001b[49m\u001b[43m[\u001b[49m\u001b[38;5;124;43m'\u001b[39;49m\u001b[38;5;124;43mrating\u001b[39;49m\u001b[38;5;124;43m'\u001b[39;49m\u001b[43m]\u001b[49m\u001b[38;5;241;43m.\u001b[39;49m\u001b[43mcount\u001b[49m\u001b[43m(\u001b[49m\u001b[43m)\u001b[49m\n\u001b[1;32m     73\u001b[0m     \u001b[38;5;28;01mif\u001b[39;00m movie_id \u001b[38;5;129;01min\u001b[39;00m movie_ratings_count:\n\u001b[1;32m     74\u001b[0m         \u001b[38;5;28;01mreturn\u001b[39;00m movie_ratings_count[movie_id]\n",
      "File \u001b[0;32m~/Faks/OS/PriporocilniSistemEnv/lib/python3.12/site-packages/pandas/core/groupby/groupby.py:2324\u001b[0m, in \u001b[0;36mGroupBy.count\u001b[0;34m(self)\u001b[0m\n\u001b[1;32m   2268\u001b[0m \u001b[38;5;250m\u001b[39m\u001b[38;5;124;03m\"\"\"\u001b[39;00m\n\u001b[1;32m   2269\u001b[0m \u001b[38;5;124;03mCompute count of group, excluding missing values.\u001b[39;00m\n\u001b[1;32m   2270\u001b[0m \n\u001b[0;32m   (...)\u001b[0m\n\u001b[1;32m   2321\u001b[0m \u001b[38;5;124;03mFreq: MS, dtype: int64\u001b[39;00m\n\u001b[1;32m   2322\u001b[0m \u001b[38;5;124;03m\"\"\"\u001b[39;00m\n\u001b[1;32m   2323\u001b[0m data \u001b[38;5;241m=\u001b[39m \u001b[38;5;28mself\u001b[39m\u001b[38;5;241m.\u001b[39m_get_data_to_aggregate()\n\u001b[0;32m-> 2324\u001b[0m ids, _, ngroups \u001b[38;5;241m=\u001b[39m \u001b[38;5;28;43mself\u001b[39;49m\u001b[38;5;241;43m.\u001b[39;49m\u001b[43m_grouper\u001b[49m\u001b[38;5;241;43m.\u001b[39;49m\u001b[43mgroup_info\u001b[49m\n\u001b[1;32m   2325\u001b[0m mask \u001b[38;5;241m=\u001b[39m ids \u001b[38;5;241m!=\u001b[39m \u001b[38;5;241m-\u001b[39m\u001b[38;5;241m1\u001b[39m\n\u001b[1;32m   2327\u001b[0m is_series \u001b[38;5;241m=\u001b[39m data\u001b[38;5;241m.\u001b[39mndim \u001b[38;5;241m==\u001b[39m \u001b[38;5;241m1\u001b[39m\n",
      "File \u001b[0;32mproperties.pyx:36\u001b[0m, in \u001b[0;36mpandas._libs.properties.CachedProperty.__get__\u001b[0;34m()\u001b[0m\n",
      "File \u001b[0;32m~/Faks/OS/PriporocilniSistemEnv/lib/python3.12/site-packages/pandas/core/groupby/ops.py:745\u001b[0m, in \u001b[0;36mBaseGrouper.group_info\u001b[0;34m(self)\u001b[0m\n\u001b[1;32m    743\u001b[0m \u001b[38;5;129m@cache_readonly\u001b[39m\n\u001b[1;32m    744\u001b[0m \u001b[38;5;28;01mdef\u001b[39;00m\u001b[38;5;250m \u001b[39m\u001b[38;5;21mgroup_info\u001b[39m(\u001b[38;5;28mself\u001b[39m) \u001b[38;5;241m-\u001b[39m\u001b[38;5;241m>\u001b[39m \u001b[38;5;28mtuple\u001b[39m[npt\u001b[38;5;241m.\u001b[39mNDArray[np\u001b[38;5;241m.\u001b[39mintp], npt\u001b[38;5;241m.\u001b[39mNDArray[np\u001b[38;5;241m.\u001b[39mintp], \u001b[38;5;28mint\u001b[39m]:\n\u001b[0;32m--> 745\u001b[0m     comp_ids, obs_group_ids \u001b[38;5;241m=\u001b[39m \u001b[38;5;28;43mself\u001b[39;49m\u001b[38;5;241;43m.\u001b[39;49m\u001b[43m_get_compressed_codes\u001b[49m\u001b[43m(\u001b[49m\u001b[43m)\u001b[49m\n\u001b[1;32m    747\u001b[0m     ngroups \u001b[38;5;241m=\u001b[39m \u001b[38;5;28mlen\u001b[39m(obs_group_ids)\n\u001b[1;32m    748\u001b[0m     comp_ids \u001b[38;5;241m=\u001b[39m ensure_platform_int(comp_ids)\n",
      "File \u001b[0;32m~/Faks/OS/PriporocilniSistemEnv/lib/python3.12/site-packages/pandas/core/groupby/ops.py:769\u001b[0m, in \u001b[0;36mBaseGrouper._get_compressed_codes\u001b[0;34m(self)\u001b[0m\n\u001b[1;32m    766\u001b[0m     \u001b[38;5;66;03m# FIXME: compress_group_index's second return value is int64, not intp\u001b[39;00m\n\u001b[1;32m    768\u001b[0m ping \u001b[38;5;241m=\u001b[39m \u001b[38;5;28mself\u001b[39m\u001b[38;5;241m.\u001b[39mgroupings[\u001b[38;5;241m0\u001b[39m]\n\u001b[0;32m--> 769\u001b[0m \u001b[38;5;28;01mreturn\u001b[39;00m \u001b[43mping\u001b[49m\u001b[38;5;241;43m.\u001b[39;49m\u001b[43mcodes\u001b[49m, np\u001b[38;5;241m.\u001b[39marange(\u001b[38;5;28mlen\u001b[39m(ping\u001b[38;5;241m.\u001b[39m_group_index), dtype\u001b[38;5;241m=\u001b[39mnp\u001b[38;5;241m.\u001b[39mintp)\n",
      "File \u001b[0;32m~/Faks/OS/PriporocilniSistemEnv/lib/python3.12/site-packages/pandas/core/groupby/grouper.py:691\u001b[0m, in \u001b[0;36mGrouping.codes\u001b[0;34m(self)\u001b[0m\n\u001b[1;32m    689\u001b[0m \u001b[38;5;129m@property\u001b[39m\n\u001b[1;32m    690\u001b[0m \u001b[38;5;28;01mdef\u001b[39;00m\u001b[38;5;250m \u001b[39m\u001b[38;5;21mcodes\u001b[39m(\u001b[38;5;28mself\u001b[39m) \u001b[38;5;241m-\u001b[39m\u001b[38;5;241m>\u001b[39m npt\u001b[38;5;241m.\u001b[39mNDArray[np\u001b[38;5;241m.\u001b[39msignedinteger]:\n\u001b[0;32m--> 691\u001b[0m     \u001b[38;5;28;01mreturn\u001b[39;00m \u001b[38;5;28;43mself\u001b[39;49m\u001b[38;5;241;43m.\u001b[39;49m\u001b[43m_codes_and_uniques\u001b[49m[\u001b[38;5;241m0\u001b[39m]\n",
      "File \u001b[0;32mproperties.pyx:36\u001b[0m, in \u001b[0;36mpandas._libs.properties.CachedProperty.__get__\u001b[0;34m()\u001b[0m\n",
      "File \u001b[0;32m~/Faks/OS/PriporocilniSistemEnv/lib/python3.12/site-packages/pandas/core/groupby/grouper.py:835\u001b[0m, in \u001b[0;36mGrouping._codes_and_uniques\u001b[0;34m(self)\u001b[0m\n\u001b[1;32m    830\u001b[0m     uniques \u001b[38;5;241m=\u001b[39m \u001b[38;5;28mself\u001b[39m\u001b[38;5;241m.\u001b[39m_uniques\n\u001b[1;32m    831\u001b[0m \u001b[38;5;28;01melse\u001b[39;00m:\n\u001b[1;32m    832\u001b[0m     \u001b[38;5;66;03m# GH35667, replace dropna=False with use_na_sentinel=False\u001b[39;00m\n\u001b[1;32m    833\u001b[0m     \u001b[38;5;66;03m# error: Incompatible types in assignment (expression has type \"Union[\u001b[39;00m\n\u001b[1;32m    834\u001b[0m     \u001b[38;5;66;03m# ndarray[Any, Any], Index]\", variable has type \"Categorical\")\u001b[39;00m\n\u001b[0;32m--> 835\u001b[0m     codes, uniques \u001b[38;5;241m=\u001b[39m \u001b[43malgorithms\u001b[49m\u001b[38;5;241;43m.\u001b[39;49m\u001b[43mfactorize\u001b[49m\u001b[43m(\u001b[49m\u001b[43m  \u001b[49m\u001b[38;5;66;43;03m# type: ignore[assignment]\u001b[39;49;00m\n\u001b[1;32m    836\u001b[0m \u001b[43m        \u001b[49m\u001b[38;5;28;43mself\u001b[39;49m\u001b[38;5;241;43m.\u001b[39;49m\u001b[43mgrouping_vector\u001b[49m\u001b[43m,\u001b[49m\u001b[43m \u001b[49m\u001b[43msort\u001b[49m\u001b[38;5;241;43m=\u001b[39;49m\u001b[38;5;28;43mself\u001b[39;49m\u001b[38;5;241;43m.\u001b[39;49m\u001b[43m_sort\u001b[49m\u001b[43m,\u001b[49m\u001b[43m \u001b[49m\u001b[43muse_na_sentinel\u001b[49m\u001b[38;5;241;43m=\u001b[39;49m\u001b[38;5;28;43mself\u001b[39;49m\u001b[38;5;241;43m.\u001b[39;49m\u001b[43m_dropna\u001b[49m\n\u001b[1;32m    837\u001b[0m \u001b[43m    \u001b[49m\u001b[43m)\u001b[49m\n\u001b[1;32m    838\u001b[0m \u001b[38;5;28;01mreturn\u001b[39;00m codes, uniques\n",
      "File \u001b[0;32m~/Faks/OS/PriporocilniSistemEnv/lib/python3.12/site-packages/pandas/core/algorithms.py:795\u001b[0m, in \u001b[0;36mfactorize\u001b[0;34m(values, sort, use_na_sentinel, size_hint)\u001b[0m\n\u001b[1;32m    792\u001b[0m             \u001b[38;5;66;03m# Don't modify (potentially user-provided) array\u001b[39;00m\n\u001b[1;32m    793\u001b[0m             values \u001b[38;5;241m=\u001b[39m np\u001b[38;5;241m.\u001b[39mwhere(null_mask, na_value, values)\n\u001b[0;32m--> 795\u001b[0m     codes, uniques \u001b[38;5;241m=\u001b[39m \u001b[43mfactorize_array\u001b[49m\u001b[43m(\u001b[49m\n\u001b[1;32m    796\u001b[0m \u001b[43m        \u001b[49m\u001b[43mvalues\u001b[49m\u001b[43m,\u001b[49m\n\u001b[1;32m    797\u001b[0m \u001b[43m        \u001b[49m\u001b[43muse_na_sentinel\u001b[49m\u001b[38;5;241;43m=\u001b[39;49m\u001b[43muse_na_sentinel\u001b[49m\u001b[43m,\u001b[49m\n\u001b[1;32m    798\u001b[0m \u001b[43m        \u001b[49m\u001b[43msize_hint\u001b[49m\u001b[38;5;241;43m=\u001b[39;49m\u001b[43msize_hint\u001b[49m\u001b[43m,\u001b[49m\n\u001b[1;32m    799\u001b[0m \u001b[43m    \u001b[49m\u001b[43m)\u001b[49m\n\u001b[1;32m    801\u001b[0m \u001b[38;5;28;01mif\u001b[39;00m sort \u001b[38;5;129;01mand\u001b[39;00m \u001b[38;5;28mlen\u001b[39m(uniques) \u001b[38;5;241m>\u001b[39m \u001b[38;5;241m0\u001b[39m:\n\u001b[1;32m    802\u001b[0m     uniques, codes \u001b[38;5;241m=\u001b[39m safe_sort(\n\u001b[1;32m    803\u001b[0m         uniques,\n\u001b[1;32m    804\u001b[0m         codes,\n\u001b[0;32m   (...)\u001b[0m\n\u001b[1;32m    807\u001b[0m         verify\u001b[38;5;241m=\u001b[39m\u001b[38;5;28;01mFalse\u001b[39;00m,\n\u001b[1;32m    808\u001b[0m     )\n",
      "File \u001b[0;32m~/Faks/OS/PriporocilniSistemEnv/lib/python3.12/site-packages/pandas/core/algorithms.py:595\u001b[0m, in \u001b[0;36mfactorize_array\u001b[0;34m(values, use_na_sentinel, size_hint, na_value, mask)\u001b[0m\n\u001b[1;32m    592\u001b[0m hash_klass, values \u001b[38;5;241m=\u001b[39m _get_hashtable_algo(values)\n\u001b[1;32m    594\u001b[0m table \u001b[38;5;241m=\u001b[39m hash_klass(size_hint \u001b[38;5;129;01mor\u001b[39;00m \u001b[38;5;28mlen\u001b[39m(values))\n\u001b[0;32m--> 595\u001b[0m uniques, codes \u001b[38;5;241m=\u001b[39m \u001b[43mtable\u001b[49m\u001b[38;5;241;43m.\u001b[39;49m\u001b[43mfactorize\u001b[49m\u001b[43m(\u001b[49m\n\u001b[1;32m    596\u001b[0m \u001b[43m    \u001b[49m\u001b[43mvalues\u001b[49m\u001b[43m,\u001b[49m\n\u001b[1;32m    597\u001b[0m \u001b[43m    \u001b[49m\u001b[43mna_sentinel\u001b[49m\u001b[38;5;241;43m=\u001b[39;49m\u001b[38;5;241;43m-\u001b[39;49m\u001b[38;5;241;43m1\u001b[39;49m\u001b[43m,\u001b[49m\n\u001b[1;32m    598\u001b[0m \u001b[43m    \u001b[49m\u001b[43mna_value\u001b[49m\u001b[38;5;241;43m=\u001b[39;49m\u001b[43mna_value\u001b[49m\u001b[43m,\u001b[49m\n\u001b[1;32m    599\u001b[0m \u001b[43m    \u001b[49m\u001b[43mmask\u001b[49m\u001b[38;5;241;43m=\u001b[39;49m\u001b[43mmask\u001b[49m\u001b[43m,\u001b[49m\n\u001b[1;32m    600\u001b[0m \u001b[43m    \u001b[49m\u001b[43mignore_na\u001b[49m\u001b[38;5;241;43m=\u001b[39;49m\u001b[43muse_na_sentinel\u001b[49m\u001b[43m,\u001b[49m\n\u001b[1;32m    601\u001b[0m \u001b[43m\u001b[49m\u001b[43m)\u001b[49m\n\u001b[1;32m    603\u001b[0m \u001b[38;5;66;03m# re-cast e.g. i8->dt64/td64, uint8->bool\u001b[39;00m\n\u001b[1;32m    604\u001b[0m uniques \u001b[38;5;241m=\u001b[39m _reconstruct_data(uniques, original\u001b[38;5;241m.\u001b[39mdtype, original)\n",
      "\u001b[0;31mKeyboardInterrupt\u001b[0m: "
     ]
    }
   ],
   "source": [
    "md = MovieData('data/movies.dat')\n",
    "uim = UserItemData('data/user_ratedmovies.dat')\n",
    "rp = ViewsPredictor()\n",
    "rec = Recommender(rp)\n",
    "rec.fit(uim)\n",
    "rec_items = rec.recommend(78, n=5, rec_seen=False)\n",
    "for idmovie, val in rec_items.items():\n",
    "    print(\"Film: {}, ocena: {}\".format(md.get_title(idmovie), val))  "
   ]
  },
  {
   "cell_type": "code",
   "execution_count": 4,
   "metadata": {},
   "outputs": [
    {
     "name": "stdout",
     "output_type": "stream",
     "text": [
      "Film: The Lord of the Rings: The Fellowship of the Ring, ocena: 1576\n",
      "Film: The Lord of the Rings: The Two Towers, ocena: 1528\n",
      "Film: The Lord of the Rings: The Return of the King, ocena: 1457\n",
      "Film: The Silence of the Lambs, ocena: 1431\n",
      "Film: Shrek, ocena: 1404\n",
      "Film: Men in Black, ocena: 1332\n",
      "Film: Pirates of the Caribbean: The Curse of the Black Pearl, ocena: 1322\n",
      "Film: Gladiator, ocena: 1316\n",
      "Film: Toy story, ocena: 1263\n",
      "Film: Titanic, ocena: 1263\n",
      "Film: The Usual Suspects, ocena: 1218\n",
      "Film: Finding Nemo, ocena: 1218\n",
      "Film: Spider-Man, ocena: 1208\n",
      "Film: Shichinin no samurai, ocena: 1206\n",
      "Film: Ocean's Eleven, ocena: 1187\n"
     ]
    }
   ],
   "source": [
    "rec_items = rec.recommend(78, n=15, rec_seen=False)\n",
    "for idmovie, val in rec_items.items():\n",
    "    print(\"Film: {}, ocena: {}\".format(md.get_title(idmovie), val))"
   ]
  },
  {
   "cell_type": "code",
   "execution_count": 2,
   "metadata": {},
   "outputs": [
    {
     "name": "stdout",
     "output_type": "stream",
     "text": [
      "97699\n",
      "Podobnost med filmoma 'Men in black'(1580) in 'Ghostbusters'(2716):  0.23516798892387114\n",
      "Podobnost med filmoma 'Men in black'(1580) in 'Schindler's List'(527):  0\n",
      "Podobnost med filmoma 'Men in black'(1580) in 'Independence day'(780):  0.427737986567518\n"
     ]
    }
   ],
   "source": [
    "md = MovieData('data/movies.dat')\n",
    "uim = UserItemData('data/user_ratedmovies.dat', min_ratings=1000)\n",
    "print(uim.nrating())\n",
    "rp = ItemBasedPredictor()\n",
    "rec = Recommender(rp)\n",
    "rec.fit(uim)\n",
    "print(\"Podobnost med filmoma 'Men in black'(1580) in 'Ghostbusters'(2716): \", rp.similarity(1580, 2716))\n",
    "print(\"Podobnost med filmoma 'Men in black'(1580) in 'Schindler's List'(527): \", rp.similarity(1580, 527))\n",
    "print(\"Podobnost med filmoma 'Men in black'(1580) in 'Independence day'(780): \", rp.similarity(1580, 780))"
   ]
  },
  {
   "cell_type": "markdown",
   "metadata": {},
   "source": [
    "Rezultat je nekoliko drugačen, kot v navodilih, predvidevam da je zaradi tega, ker računam na več decimalk."
   ]
  },
  {
   "cell_type": "code",
   "execution_count": 3,
   "metadata": {},
   "outputs": [
    {
     "name": "stdout",
     "output_type": "stream",
     "text": [
      "Predictions for 78: \n",
      "  -Film: Shichinin no samurai, ocena: 4.356018413569317\n",
      "  -Film: The Usual Suspects, ocena: 4.353769668728118\n",
      "  -Film: The Silence of the Lambs, ocena: 4.33528131325887\n",
      "  -Film: Sin City, ocena: 4.278429247529872\n",
      "  -Film: Monsters, Inc., ocena: 4.217445291921532\n",
      "  -Film: The Incredibles, ocena: 4.206383527346693\n",
      "  -Film: The Lord of the Rings: The Fellowship of the Ring, ocena: 4.152237141873459\n",
      "  -Film: Batman Begins, ocena: 4.146262554054467\n",
      "  -Film: Die Hard, ocena: 4.125105511957447\n",
      "  -Film: Rain Man, ocena: 4.070955499944919\n",
      "  -Film: The Lord of the Rings: The Return of the King, ocena: 4.019883538397525\n",
      "  -Film: A Beautiful Mind, ocena: 4.015035934887659\n",
      "  -Film: Good Will Hunting, ocena: 4.011878267002122\n",
      "  -Film: The Lord of the Rings: The Two Towers, ocena: 3.9413334236090374\n",
      "  -Film: Indiana Jones and the Last Crusade, ocena: 3.796858915863117\n"
     ]
    }
   ],
   "source": [
    "print(\"Predictions for 78: \")\n",
    "rec_items = rec.recommend(78, n=15, rec_seen=False)\n",
    "for idmovie, val in rec_items.items():\n",
    "    print(\"  -Film: {}, ocena: {}\".format(md.get_title(idmovie), val))"
   ]
  },
  {
   "cell_type": "code",
   "execution_count": 4,
   "metadata": {},
   "outputs": [
    {
     "name": "stdout",
     "output_type": "stream",
     "text": [
      "Film1: The Lord of the Rings: The Two Towers, Film2: The Lord of the Rings: The Return of the King, Podobnost: 0.8454654524805245\n",
      "Film1: The Lord of the Rings: The Fellowship of the Ring, Film2: The Lord of the Rings: The Two Towers, Podobnost: 0.8253081511647372\n",
      "Film1: The Lord of the Rings: The Fellowship of the Ring, Film2: The Lord of the Rings: The Return of the King, Podobnost: 0.8099857884071077\n",
      "Film1: Kill Bill: Vol. 2, Film2: Kill Bill: Vol. 2, Podobnost: 0.7380624261761243\n",
      "Film1: Star Wars, Film2: Star Wars: Episode V - The Empire Strikes Back, Podobnost: 0.7041313013087281\n",
      "Film1: Ace Ventura: Pet Detective, Film2: The Mask, Podobnost: 0.6628774648232458\n",
      "Film1: Star Wars: Episode V - The Empire Strikes Back, Film2: Star Wars: Episode VI - Return of the Jedi, Podobnost: 0.6022932893236439\n",
      "Film1: Independence Day, Film2: Star Wars: Episode I - The Phantom Menace, Podobnost: 0.5625006585729001\n",
      "Film1: Star Wars, Film2: Star Wars: Episode VI - Return of the Jedi, Podobnost: 0.5577766674022687\n",
      "Film1: Ace Ventura: Pet Detective, Film2: Austin Powers: The Spy Who Shagged Me, Podobnost: 0.5559538151805121\n",
      "Film1: Speed, Film2: Pretty Woman, Podobnost: 0.5475034851194492\n",
      "Film1: Speed, Film2: Independence Day, Podobnost: 0.5446574964389229\n",
      "Film1: The Mask, Film2: Mrs. Doubtfire, Podobnost: 0.541582092914733\n",
      "Film1: Star Wars: Episode I - The Phantom Menace, Film2: The Matrix Reloaded, Podobnost: 0.5404551141251982\n",
      "Film1: Pulp Fiction, Film2: Reservoir Dogs, Podobnost: 0.5343874036367809\n",
      "Film1: Mrs. Doubtfire, Film2: Pretty Woman, Podobnost: 0.5291040556747351\n",
      "Film1: The Mask, Film2: Speed, Podobnost: 0.5282504677659644\n",
      "Film1: The Usual Suspects, Film2: The Shawshank Redemption, Podobnost: 0.5194242912063675\n",
      "Film1: Pretty Woman, Film2: Independence Day, Podobnost: 0.5165947420134857\n",
      "Film1: Mrs. Doubtfire, Film2: Independence Day, Podobnost: 0.510030989502843\n"
     ]
    }
   ],
   "source": [
    "dict = rp.get_n_most_similar_movies(20)\n",
    "for (film1, film2), v in dict.items():\n",
    "    print(\"Film1:\", md.get_title(int(film1)) + \", Film2:\", md.get_title(int(film2)) + \", Podobnost:\", v)"
   ]
  },
  {
   "cell_type": "code",
   "execution_count": 5,
   "metadata": {},
   "outputs": [
    {
     "name": "stdout",
     "output_type": "stream",
     "text": [
      "Filmi podobni \"The Lord of the Rings: The Fellowship of the Ring\": \n",
      "Film: The Lord of the Rings: The Two Towers, ocena: 0.8253081511647372\n",
      "Film: The Lord of the Rings: The Return of the King, ocena: 0.8099857884071077\n",
      "Film: Star Wars: Episode V - The Empire Strikes Back, ocena: 0.24133180932736856\n",
      "Film: Star Wars, ocena: 0.2209834692432461\n",
      "Film: The Matrix, ocena: 0.21578199155048564\n",
      "Film: Raiders of the Lost Ark, ocena: 0.20011389002096108\n",
      "Film: The Usual Suspects, ocena: 0.18406489273995022\n",
      "Film: Blade Runner, ocena: 0.16437524633753203\n",
      "Film: Schindler's List, ocena: 0.1615294759451027\n",
      "Film: Monty Python and the Holy Grail, ocena: 0.15826926120832596\n"
     ]
    }
   ],
   "source": [
    "rec_items = rp.similar_items(4993, 10)\n",
    "print('Filmi podobni \"The Lord of the Rings: The Fellowship of the Ring\": ')\n",
    "for idmovie, val in rec_items.items():\n",
    "    print(\"Film: {}, ocena: {}\".format(md.get_title(idmovie), val))"
   ]
  },
  {
   "cell_type": "code",
   "execution_count": 6,
   "metadata": {},
   "outputs": [
    {
     "name": "stdout",
     "output_type": "stream",
     "text": [
      "297075\n",
      "Predictions for me: \n",
      "  -Film: Charlie and the Chocolate Factory, ocena: 3.906955594702409\n",
      "  -Film: Austin Powers: International Man of Mystery, ocena: 3.900743316331795\n",
      "  -Film: Natural Born Killers, ocena: 3.8650669306856456\n",
      "  -Film: The Crow, ocena: 3.7997999302738976\n",
      "  -Film: The Hitch Hikers Guide to the Galaxy, ocena: 3.776856582516833\n",
      "  -Film: South Park: Bigger Longer & Uncut, ocena: 3.774796609732518\n",
      "  -Film: Beetle Juice, ocena: 3.703857699724128\n",
      "  -Film: Napoleon Dynamite, ocena: 3.6823566723980368\n",
      "  -Film: Ice Age, ocena: 3.6639227075995935\n",
      "  -Film: Wayne's World, ocena: 3.655233272761485\n"
     ]
    }
   ],
   "source": [
    "from UserItemData import UserItemData\n",
    "from MovieData import MovieData\n",
    "from ItemBasedPredictor import ItemBasedPredictor\n",
    "from Recommender import Recommender\n",
    "\n",
    "md = MovieData('data/movies.dat')\n",
    "uim = UserItemData('data/user_ratedmovies.dat', min_ratings=500)\n",
    "print(uim.nrating())\n",
    "rp = ItemBasedPredictor()\n",
    "rec = Recommender(rp)\n",
    "rec.fit(uim)\n",
    "print(\"Predictions for me: \")\n",
    "rec_items = rec.recommend(69350, n=10, rec_seen=False)\n",
    "for idmovie, val in rec_items.items():\n",
    "    print(\"  -Film: {}, ocena: {}\".format(md.get_title(idmovie), val))"
   ]
  },
  {
   "cell_type": "markdown",
   "metadata": {},
   "source": [
    "Kill Bill je v bazi dvakrat z različnima ID."
   ]
  },
  {
   "cell_type": "code",
   "execution_count": 7,
   "metadata": {},
   "outputs": [
    {
     "name": "stdout",
     "output_type": "stream",
     "text": [
      "Predictions for 78: \n",
      "Film: The Usual Suspects, ocena: 4.324814175041876\n",
      "Film: The Lord of the Rings: The Fellowship of the Ring, ocena: 4.155293229840448\n",
      "Film: The Lord of the Rings: The Return of the King, ocena: 4.153135076202185\n",
      "Film: The Silence of the Lambs, ocena: 4.127978169643881\n",
      "Film: Shichinin no samurai, ocena: 4.119790444913598\n",
      "Film: The Lord of the Rings: The Two Towers, ocena: 4.083325894849594\n",
      "Film: Indiana Jones and the Last Crusade, ocena: 3.9670398355464194\n",
      "Film: The Incredibles, ocena: 3.9662148834850237\n",
      "Film: Good Will Hunting, ocena: 3.963042836041359\n",
      "Film: Sin City, ocena: 3.942619137615212\n",
      "Film: Batman Begins, ocena: 3.9375326640077017\n",
      "Film: A Beautiful Mind, ocena: 3.9140940935239508\n",
      "Film: Rain Man, ocena: 3.9107819079644943\n",
      "Film: Monsters, Inc., ocena: 3.8819375978658006\n",
      "Film: Finding Nemo, ocena: 3.8807711131654794\n"
     ]
    }
   ],
   "source": [
    "from SlopeOnePredictor import SlopeOnePredictor\n",
    "from UserItemData import UserItemData\n",
    "from MovieData import MovieData\n",
    "from Recommender import Recommender\n",
    "\n",
    "md = MovieData('data/movies.dat')\n",
    "uim = UserItemData('data/user_ratedmovies.dat', min_ratings=1000)\n",
    "rp = SlopeOnePredictor()\n",
    "rec = Recommender(rp)\n",
    "rec.fit(uim)\n",
    "\n",
    "print(\"Predictions for 78: \")\n",
    "rec_items = rec.recommend(78, n=15, rec_seen=False)\n",
    "for idmovie, val in rec_items.items():\n",
    "    print(\"Film: {}, ocena: {}\".format(md.get_title(idmovie), val))"
   ]
  },
  {
   "cell_type": "code",
   "execution_count": 2,
   "metadata": {},
   "outputs": [
    {
     "ename": "AttributeError",
     "evalue": "'UserItemData' object has no attribute 'get_user_ratings'",
     "output_type": "error",
     "traceback": [
      "\u001b[0;31m---------------------------------------------------------------------------\u001b[0m",
      "\u001b[0;31mAttributeError\u001b[0m                            Traceback (most recent call last)",
      "Cell \u001b[0;32mIn[2], line 9\u001b[0m\n\u001b[1;32m      6\u001b[0m rec\u001b[38;5;241m.\u001b[39mfit(uim)\n\u001b[1;32m      8\u001b[0m uim_test \u001b[38;5;241m=\u001b[39m UserItemData(\u001b[38;5;124m'\u001b[39m\u001b[38;5;124mdata/user_ratedmovies.dat\u001b[39m\u001b[38;5;124m'\u001b[39m, min_ratings\u001b[38;5;241m=\u001b[39m\u001b[38;5;241m200\u001b[39m, start_date\u001b[38;5;241m=\u001b[39m\u001b[38;5;124m'\u001b[39m\u001b[38;5;124m2.1.2008\u001b[39m\u001b[38;5;124m'\u001b[39m)\n\u001b[0;32m----> 9\u001b[0m mse, mae, precision, recall, f \u001b[38;5;241m=\u001b[39m \u001b[43mrec\u001b[49m\u001b[38;5;241;43m.\u001b[39;49m\u001b[43mevaluate\u001b[49m\u001b[43m(\u001b[49m\u001b[43muim_test\u001b[49m\u001b[43m,\u001b[49m\u001b[43m \u001b[49m\u001b[38;5;241;43m20\u001b[39;49m\u001b[43m)\u001b[49m\n\u001b[1;32m     10\u001b[0m \u001b[38;5;28mprint\u001b[39m(mse, mae, precision, recall, f)\n",
      "File \u001b[0;32m~/Faks/OS/Recommender.py:41\u001b[0m, in \u001b[0;36mRecommender.evaluate\u001b[0;34m(self, test_data, n)\u001b[0m\n\u001b[1;32m     37\u001b[0m f1_scores \u001b[38;5;241m=\u001b[39m []\n\u001b[1;32m     39\u001b[0m \u001b[38;5;28;01mfor\u001b[39;00m user_id \u001b[38;5;129;01min\u001b[39;00m test_data\u001b[38;5;241m.\u001b[39mdata[\u001b[38;5;124m'\u001b[39m\u001b[38;5;124muserID\u001b[39m\u001b[38;5;124m'\u001b[39m]\u001b[38;5;241m.\u001b[39munique():\n\u001b[1;32m     40\u001b[0m     \u001b[38;5;66;03m# Pridobimo dejanske ocene uporabnika\u001b[39;00m\n\u001b[0;32m---> 41\u001b[0m     user_actuals \u001b[38;5;241m=\u001b[39m \u001b[43mtest_data\u001b[49m\u001b[38;5;241;43m.\u001b[39;49m\u001b[43mget_user_ratings\u001b[49m(user_id)\n\u001b[1;32m     42\u001b[0m     user_avg \u001b[38;5;241m=\u001b[39m \u001b[38;5;28msum\u001b[39m(user_actuals\u001b[38;5;241m.\u001b[39mvalues()) \u001b[38;5;241m/\u001b[39m \u001b[38;5;28mlen\u001b[39m(user_actuals)\n\u001b[1;32m     44\u001b[0m     \u001b[38;5;66;03m# Relevantni produkti (nad povprečno oceno)\u001b[39;00m\n",
      "\u001b[0;31mAttributeError\u001b[0m: 'UserItemData' object has no attribute 'get_user_ratings'"
     ]
    }
   ],
   "source": [
    "from SlopeOnePredictor import SlopeOnePredictor\n",
    "md = MovieData('data/movies.dat')\n",
    "uim = UserItemData('data/user_ratedmovies.dat', min_ratings=1000, end_date='1.1.2008')\n",
    "rp = SlopeOnePredictor()\n",
    "rec = Recommender(rp)\n",
    "rec.fit(uim)\n",
    "\n",
    "uim_test = UserItemData('data/user_ratedmovies.dat', min_ratings=200, start_date='2.1.2008')\n",
    "mse, mae, precision, recall, f = rec.evaluate(uim_test, 20)\n",
    "print(mse, mae, precision, recall, f)"
   ]
  }
 ],
 "metadata": {
  "kernelspec": {
   "display_name": "PriporocilniSistemEnv",
   "language": "python",
   "name": "python3"
  },
  "language_info": {
   "codemirror_mode": {
    "name": "ipython",
    "version": 3
   },
   "file_extension": ".py",
   "mimetype": "text/x-python",
   "name": "python",
   "nbconvert_exporter": "python",
   "pygments_lexer": "ipython3",
   "version": "3.12.3"
  }
 },
 "nbformat": 4,
 "nbformat_minor": 2
}
